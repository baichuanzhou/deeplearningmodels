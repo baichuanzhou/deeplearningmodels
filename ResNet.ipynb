{
 "cells": [
  {
   "cell_type": "code",
   "execution_count": null,
   "metadata": {},
   "outputs": [],
   "source": []
  }
 ],
 "metadata": {
  "kernelspec": {
   "display_name": "Python 3.8.13 ('d2l')",
   "language": "python",
   "name": "python3"
  },
  "language_info": {
   "name": "python",
   "version": "3.8.13"
  },
  "orig_nbformat": 4,
  "vscode": {
   "interpreter": {
    "hash": "32346f4b70131bfa144d041c1f7f9b5a324c98ebaa1f6a61bb338b756c923195"
   }
  }
 },
 "nbformat": 4,
 "nbformat_minor": 2
}
